{
 "cells": [
  {
   "cell_type": "code",
   "execution_count": 10,
   "metadata": {
    "collapsed": true
   },
   "outputs": [],
   "source": [
    "use Modern::Perl;\n",
    "use HackaMol;\n",
    "use YAML::XS qw(Dump DumpFile);"
   ]
  },
  {
   "cell_type": "markdown",
   "metadata": {},
   "source": [
    "###Prepare the working environment using a HackaMol object"
   ]
  },
  {
   "cell_type": "code",
   "execution_count": 6,
   "metadata": {
    "collapsed": false
   },
   "outputs": [
    {
     "name": "stderr",
     "output_type": "stream",
     "text": [
      "/Users/demianriccardi/Devel/perl/HackaMol-CaseStudy/Survey_PDBdisulfide/notebooks/results/Users/demianriccardi/Devel/perl/HackaMol-CaseStudy/Survey_PDBdisulfide/notebooks/results/xtals\n"
     ]
    }
   ],
   "source": [
    "my $bldr = HackaMol->new(data => \"../xtals_clusters\", scratch=>\"results/xtals\");\n",
    "my @pdbs = $bldr->data->children(qr/\\.pdb/);\n",
    "$bldr->scratch->mkpath unless $bldr->scratch->exists;"
   ]
  },
  {
   "cell_type": "markdown",
   "metadata": {},
   "source": [
    "###Add a couple of useful subroutines"
   ]
  },
  {
   "cell_type": "code",
   "execution_count": 8,
   "metadata": {
    "collapsed": false
   },
   "outputs": [],
   "source": [
    "sub CysCys_intcoords{\n",
    "# Depends on convention of PDB ordering \n",
    "#0    N CYS     \n",
    "#1   CA CYS    \n",
    "#2    C CYS     \n",
    "#3    O CYS     \n",
    "#4   CB CYS    \n",
    "#5   SG CYS    \n",
    "#\n",
    "  my $ss    = shift;\n",
    "  my $sa    = $ss->get_atoms(0);\n",
    "  my $sb    = $ss->get_atoms(1);\n",
    "\n",
    "  my $q_intra = 0;\n",
    "  $q_intra = abs($sa->resid - $sb->resid)-1  if ($sa->chain eq $sb->chain);\n",
    "\n",
    "  my @atoms = @_;\n",
    "\n",
    "  my @cysa  = grep{ \n",
    "                    $_->resid eq $sa->resid \n",
    "                and $_->chain eq $sa->chain\n",
    "                  } @atoms;\n",
    "\n",
    "  my @cysb  = grep{ \n",
    "                    $_->resid eq $sb->resid\n",
    "                and $_->chain eq $sb->chain\n",
    "                  } @atoms;\n",
    "\n",
    "  return (\"MISSING_ATOMS\") if (scalar(@cysa) < 6 or\n",
    "                               scalar(@cysb) < 6);  \n",
    "\n",
    "  my $hack   = HackaMol->new(name=>\"builder\");\n",
    "\n",
    "  my ($CACA)   = $hack->build_bonds(  $cysa[1], $cysb[1]  ) ;\n",
    "  my ($CACBS1) = $hack->build_angles( @cysa[1,4,5]        ) ;\n",
    "  my ($CACBS2) = $hack->build_angles( @cysb[1,4,5]        ) ;\n",
    "  my ($CBS1S2) = $hack->build_angles( @cysa[4,5],$cysb[5] ) ;\n",
    "  my ($CBS2S1) = $hack->build_angles( @cysb[4,5],$cysa[5] ) ;\n",
    "\n",
    "  return (  \n",
    "          { distance => {\n",
    "              ss   => $ss->bond_length   ,\n",
    "              caca => $CACA->bond_length , \n",
    "            },\n",
    "            angle => {\n",
    "              cacbs1 => $CACBS1->ang_deg   , \n",
    "              cacbs2 => $CACBS2->ang_deg   ,  \n",
    "              cbs1s2 => $CBS1S2->ang_deg   , \n",
    "              cbs2s1 => $CBS2S1->ang_deg   , \n",
    "            },\n",
    "            chain => dseq_inter_intra($sa,$sb),\n",
    "          }\n",
    "  );\n",
    "}"
   ]
  },
  {
   "cell_type": "code",
   "execution_count": 9,
   "metadata": {
    "collapsed": true
   },
   "outputs": [],
   "source": [
    "sub dseq_inter_intra {\n",
    "  my ($sa,$sb) = (shift,shift);\n",
    "  my $dseq = abs($sa->resid - $sb->resid);\n",
    "  my ($qinter,$qintra) = (0,1);\n",
    "  ($qinter,$qintra)    = (1,0) unless ($sa->chain eq $sb->chain);\n",
    "  return (\n",
    "          {\n",
    "           dseq   => $dseq,\n",
    "           qinter => $qinter,\n",
    "           qintra => $qintra,\n",
    "          },\n",
    "  );\n",
    "}"
   ]
  },
  {
   "cell_type": "code",
   "execution_count": 11,
   "metadata": {
    "collapsed": false
   },
   "outputs": [
    {
     "name": "stderr",
     "output_type": "stream",
     "text": [
      "1\n"
     ]
    }
   ],
   "source": [
    "my %coords = map {\n",
    "  my $fpdb = $_;\n",
    "  my $name = $fpdb->basename('.pdb');\n",
    "  my $mol   = $bldr->read_file_mol($fpdb);\n",
    "  # use Hg atom to analyze the disulfide that is actually of interest\n",
    "  # eliminate double counting\n",
    "  my ($hg)  = grep {$_->symbol eq 'Hg' } $mol->all_atoms;\n",
    "\n",
    "  my ($ss)  = grep {abs($_->COM-$hg->xyz) <= 0.001} \n",
    "              $bldr->find_disulfide_bonds($mol->all_atoms);\n",
    "  my @lcor;\n",
    "  # for NMR ensemble of structures   \n",
    "  foreach my $t (0 .. $mol->tmax){\n",
    "    $mol->t($t);\n",
    "    my @SScor = CysCys_intcoords($ss, $mol->all_atoms);\n",
    "    push @lcor, @SScor unless (grep {/MISSING/} @SScor);\n",
    "    #push @lcor, [@SScor] unless (grep {/MISSING/} @SScor);\n",
    "  }\n",
    "  ($name,\\@lcor);\n",
    "} @pdbs;\n",
    "\n",
    "my $fyaml = $bldr->scratch->child(\"xtals\\_distances_angles.yaml\");\n",
    "DumpFile($fyaml,\\%coords);"
   ]
  },
  {
   "cell_type": "code",
   "execution_count": 13,
   "metadata": {
    "collapsed": false
   },
   "outputs": [],
   "source": [
    "use List::Util qw(max min sum);\n",
    "use Math::SimpleHisto::XS;"
   ]
  },
  {
   "cell_type": "code",
   "execution_count": 16,
   "metadata": {
    "collapsed": false
   },
   "outputs": [],
   "source": [
    "my $nbin = 50;\n",
    "my $min  = 1.95;\n",
    "my $max  = 2.15;\n",
    "\n",
    "my @ssb;\n",
    "foreach my $cluster (keys %coords){\n",
    "  foreach my $t (@{$coords{$cluster}}){\n",
    "    push @ssb, $t->{distance}{ss};\n",
    "  }\n",
    "}"
   ]
  },
  {
   "cell_type": "code",
   "execution_count": 19,
   "metadata": {
    "collapsed": false
   },
   "outputs": [
    {
     "data": {
      "text/plain": [
       "    1.9520     0.0005\n",
       "    1.9560     0.0007\n",
       "    1.9600     0.0004\n",
       "    1.9640     0.0009\n",
       "    1.9680     0.0016\n",
       "    1.9720     0.0007\n",
       "    1.9760     0.0013\n",
       "    1.9800     0.0014\n",
       "    1.9840     0.0018\n",
       "    1.9880     0.0026\n",
       "    1.9920     0.0026\n",
       "    1.9960     0.0037\n",
       "    2.0000     0.0050\n",
       "    2.0040     0.0097\n",
       "    2.0080     0.0110\n",
       "    2.0120     0.0125\n",
       "    2.0160     0.0187\n",
       "    2.0200     0.0320\n",
       "    2.0240     0.0437\n",
       "    2.0280     0.0801\n",
       "    2.0320     0.1129\n",
       "    2.0360     0.1029\n",
       "    2.0400     0.0845\n",
       "    2.0440     0.0685\n",
       "    2.0480     0.0580\n",
       "    2.0520     0.0454\n",
       "    2.0560     0.0342\n",
       "    2.0600     0.0295\n",
       "    2.0640     0.0297\n",
       "    2.0680     0.0200\n",
       "    2.0720     0.0207\n",
       "    2.0760     0.0185\n",
       "    2.0800     0.0135\n",
       "    2.0840     0.0129\n",
       "    2.0880     0.0126\n",
       "    2.0920     0.0097\n",
       "    2.0960     0.0095\n",
       "    2.1000     0.0079\n",
       "    2.1040     0.0066\n",
       "    2.1080     0.0058\n",
       "    2.1120     0.0047\n",
       "    2.1160     0.0045\n",
       "    2.1200     0.0058\n",
       "    2.1240     0.0045\n",
       "    2.1280     0.0036\n",
       "    2.1320     0.0029\n",
       "    2.1360     0.0024\n",
       "    2.1400     0.0032\n",
       "    2.1440     0.0020\n",
       "    2.1480     0.0014\n",
       "\n",
       "\n",
       "sum: 0.969087082346751\n",
       "\n"
      ]
     },
     "execution_count": 19,
     "metadata": {},
     "output_type": "execute_result"
    },
    {
     "name": "stderr",
     "output_type": "stream",
     "text": [
      "1\n"
     ]
    }
   ],
   "source": [
    "my $df = ($max-$min)/ $nbin;\n",
    "my $hist = Math::SimpleHisto::XS->new(\n",
    "          bins => [ map{ $min + $df*$_ } (0 .. $nbin)],\n",
    ");\n",
    "\n",
    "$hist->fill(\\@ssb);\n",
    "$hist->normalize($hist->total/scalar(@ssb));\n",
    "my $data_bins   = $hist->all_bin_contents;\n",
    "my $bin_centers = $hist->bin_centers;\n",
    "\n",
    "my $sum = 0;\n",
    "foreach my $i (0 .. $#{$data_bins}){\n",
    "  $sum += $data_bins->[$i];\n",
    "  printf (\"%10.4f %10.4f\\n\", $bin_centers->[$i], $data_bins->[$i]);\n",
    "}\n",
    "\n",
    "say \"\\n\\nsum: $sum\\n\";"
   ]
  },
  {
   "cell_type": "code",
   "execution_count": null,
   "metadata": {
    "collapsed": true
   },
   "outputs": [],
   "source": []
  }
 ],
 "metadata": {
  "kernelspec": {
   "display_name": "IPerl 0.005",
   "language": "perl",
   "name": "iperl"
  },
  "language_info": {
   "file_extension": ".pl",
   "mimetype": "text/x-perl",
   "name": "perl",
   "version": "5.20.2"
  }
 },
 "nbformat": 4,
 "nbformat_minor": 0
}
